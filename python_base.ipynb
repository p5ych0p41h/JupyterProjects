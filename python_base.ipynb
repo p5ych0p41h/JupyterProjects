{
 "cells": [
  {
   "cell_type": "markdown",
   "id": "14029e13-9535-4038-aed3-d68013eb2ec0",
   "metadata": {},
   "source": [
    "# Основы Python"
   ]
  },
  {
   "cell_type": "markdown",
   "id": "86d62668-0269-4be1-882e-899a23645d23",
   "metadata": {
    "tags": []
   },
   "source": [
    "## Комментарий"
   ]
  },
  {
   "cell_type": "raw",
   "id": "29d6ce7e-3ea4-4450-b8c5-4e085d28f219",
   "metadata": {},
   "source": [
    "#однострочный комментарий"
   ]
  },
  {
   "cell_type": "code",
   "execution_count": 1,
   "id": "d012edcb-1515-4376-8c02-6af4b6ce2404",
   "metadata": {
    "tags": []
   },
   "outputs": [],
   "source": [
    "#неинтерпретируемая строка"
   ]
  },
  {
   "cell_type": "markdown",
   "id": "69ad42a8-a631-4dc0-840d-6d931a03c7fa",
   "metadata": {
    "tags": []
   },
   "source": [
    "## Типы данных и переменные"
   ]
  },
  {
   "cell_type": "markdown",
   "id": "c4cb0d73-5d83-4b10-9431-fb6cba4bf732",
   "metadata": {
    "tags": []
   },
   "source": [
    "### Типы данных"
   ]
  },
  {
   "cell_type": "raw",
   "id": "43ca8403-8311-492e-8d70-8495b1641283",
   "metadata": {},
   "source": [
    "int - целые числа - 1 2 3 4\n",
    "float - вещественные числа - 1.01 2.02 3.03\n",
    "str - строки (набор символов) - \"слова\" 'предложения'"
   ]
  },
  {
   "cell_type": "raw",
   "id": "c27f807f-e123-45a8-b6be-34af23fb63ad",
   "metadata": {},
   "source": [
    "'''\n",
    "Привет\n",
    "Мир\n",
    "'''"
   ]
  },
  {
   "cell_type": "markdown",
   "id": "6940ec46-47b6-4954-8a9b-3ff760a8417b",
   "metadata": {
    "tags": []
   },
   "source": [
    "### Переменные"
   ]
  },
  {
   "cell_type": "raw",
   "id": "5710539f-ae1f-41da-9f26-35ae4a217dcc",
   "metadata": {},
   "source": [
    "Создание и запись значения в переменную:\n",
    "название = значение"
   ]
  },
  {
   "cell_type": "raw",
   "id": "c83e56c9-0014-4032-ab2c-052e9d016806",
   "metadata": {},
   "source": [
    "Ограничение названий:\n",
    "1. В названиях используются латинские буквы и цифры.\n",
    "2. Цифра не стоит на первом месте.\n",
    "3. _ тоже буква.\n",
    "4. Нельзя использовать зарезервированные языком слова.\n",
    "5. Язык чувствителен к регистру (А != а)."
   ]
  },
  {
   "cell_type": "code",
   "execution_count": 2,
   "id": "2ba1d1ca-d2b1-4c86-ab31-714e6691dbf0",
   "metadata": {
    "tags": []
   },
   "outputs": [],
   "source": [
    "a = 1\n",
    "b = 2.0\n",
    "c = \"Привет\""
   ]
  },
  {
   "cell_type": "raw",
   "id": "ecca084b-3aaf-4b6b-b885-7ab133e5ed74",
   "metadata": {},
   "source": [
    "Посмотр содержимого переменной:\n",
    "название"
   ]
  },
  {
   "cell_type": "code",
   "execution_count": 3,
   "id": "ee88b058-91df-4b09-88b6-3e979a36ba9c",
   "metadata": {
    "tags": []
   },
   "outputs": [
    {
     "data": {
      "text/plain": [
       "1"
      ]
     },
     "execution_count": 3,
     "metadata": {},
     "output_type": "execute_result"
    }
   ],
   "source": [
    "a"
   ]
  },
  {
   "cell_type": "code",
   "execution_count": 4,
   "id": "46d98c79-8f66-4aef-bb63-45aad1366b26",
   "metadata": {
    "tags": []
   },
   "outputs": [
    {
     "data": {
      "text/plain": [
       "2.0"
      ]
     },
     "execution_count": 4,
     "metadata": {},
     "output_type": "execute_result"
    }
   ],
   "source": [
    "b"
   ]
  },
  {
   "cell_type": "code",
   "execution_count": 5,
   "id": "038c640b-79f5-41df-88d1-de33dc9a3d55",
   "metadata": {
    "tags": []
   },
   "outputs": [
    {
     "data": {
      "text/plain": [
       "'Привет'"
      ]
     },
     "execution_count": 5,
     "metadata": {},
     "output_type": "execute_result"
    }
   ],
   "source": [
    "c"
   ]
  },
  {
   "cell_type": "markdown",
   "id": "5244f1a1-8b9e-4104-8960-79ec4111a711",
   "metadata": {
    "tags": []
   },
   "source": [
    "### Преобразование типов"
   ]
  },
  {
   "cell_type": "raw",
   "id": "a7fe934e-1ee7-48f5-a7de-de21f10e356a",
   "metadata": {},
   "source": [
    "тип(значение)"
   ]
  },
  {
   "cell_type": "code",
   "execution_count": 6,
   "id": "5135064f-2057-4738-8ead-5eb72beb779c",
   "metadata": {
    "tags": []
   },
   "outputs": [],
   "source": [
    "a = 5\n",
    "b = str(a)"
   ]
  },
  {
   "cell_type": "code",
   "execution_count": 7,
   "id": "80871b7b-bfe0-44fd-bb9f-6e07d22cb37a",
   "metadata": {
    "tags": []
   },
   "outputs": [
    {
     "data": {
      "text/plain": [
       "'5'"
      ]
     },
     "execution_count": 7,
     "metadata": {},
     "output_type": "execute_result"
    }
   ],
   "source": [
    "b"
   ]
  },
  {
   "cell_type": "markdown",
   "id": "c60b451c-23e5-4391-bcc9-c5f766160f4f",
   "metadata": {
    "tags": []
   },
   "source": [
    "## Вывод на языке Python"
   ]
  },
  {
   "cell_type": "raw",
   "id": "7eef96ed-3e70-46ca-8383-a737e2461206",
   "metadata": {},
   "source": [
    "print(сообщение) - выводит сообщение в консоль и ставит перенос строки"
   ]
  },
  {
   "cell_type": "code",
   "execution_count": 8,
   "id": "a220d323-8c56-4645-bb6a-47cfd549e2de",
   "metadata": {
    "tags": []
   },
   "outputs": [
    {
     "name": "stdout",
     "output_type": "stream",
     "text": [
      "5\n"
     ]
    }
   ],
   "source": [
    "print(a)"
   ]
  },
  {
   "cell_type": "raw",
   "id": "9e34c61c-e8db-481f-b330-a6b709ea4956",
   "metadata": {},
   "source": [
    "print(сообщение, end=значение) - вывод с измененным параметром окончания строки"
   ]
  },
  {
   "cell_type": "code",
   "execution_count": 9,
   "id": "374278a8-3549-4832-98c6-4793a089895a",
   "metadata": {},
   "outputs": [
    {
     "name": "stdout",
     "output_type": "stream",
     "text": [
      "5hehe"
     ]
    }
   ],
   "source": [
    "print(a, end=\"hehe\")"
   ]
  },
  {
   "cell_type": "raw",
   "id": "b7e039d7-06e6-467a-917e-bba86a4e00b1",
   "metadata": {},
   "source": [
    "print(\"сообщение {номер значения1}\".format(значение1))"
   ]
  },
  {
   "cell_type": "code",
   "execution_count": 10,
   "id": "3065ec97-ebfe-4e03-9dc9-3ef55a88ee8c",
   "metadata": {
    "tags": []
   },
   "outputs": [
    {
     "name": "stdout",
     "output_type": "stream",
     "text": [
      "В переменной а лежит значение 5, а в переменной b 5\n"
     ]
    }
   ],
   "source": [
    "print(\"В переменной а лежит значение {0}, а в переменной b {1}\".format(a, b))"
   ]
  },
  {
   "cell_type": "markdown",
   "id": "54700b43-bb9c-48a4-a71d-bcd007dacee1",
   "metadata": {
    "tags": []
   },
   "source": [
    "## Ввод на языке Python"
   ]
  },
  {
   "cell_type": "markdown",
   "id": "ec625991-ed9b-42e6-8e1f-2823e56ae67b",
   "metadata": {},
   "source": [
    "input(сообщение) - считывает значение как строку с консоли"
   ]
  },
  {
   "cell_type": "code",
   "execution_count": 11,
   "id": "2440d321-39cb-4cf9-921b-f89c0536aa45",
   "metadata": {},
   "outputs": [
    {
     "name": "stdin",
     "output_type": "stream",
     "text": [
      "Введите a: 5\n"
     ]
    }
   ],
   "source": [
    "a = input(\"Введите a:\")"
   ]
  },
  {
   "cell_type": "code",
   "execution_count": 12,
   "id": "f32b31e8-f6b2-415b-a935-2b121a434a05",
   "metadata": {},
   "outputs": [
    {
     "data": {
      "text/plain": [
       "'5'"
      ]
     },
     "execution_count": 12,
     "metadata": {},
     "output_type": "execute_result"
    }
   ],
   "source": [
    "a"
   ]
  },
  {
   "cell_type": "markdown",
   "id": "87fb5119-647f-4953-9b02-fed42a85f247",
   "metadata": {},
   "source": [
    "## Истина и ложь на языке Python"
   ]
  },
  {
   "cell_type": "raw",
   "id": "bdd361ff-b13c-4c95-ba4e-a2ad4fac1819",
   "metadata": {},
   "source": [
    "Логические вырожения на языке Python построены на типе данных bool.\n",
    "bool - True/False."
   ]
  },
  {
   "cell_type": "code",
   "execution_count": 13,
   "id": "d8269b84-c0fb-46a5-b7c7-c91fe77cd078",
   "metadata": {},
   "outputs": [],
   "source": [
    "a = True"
   ]
  },
  {
   "cell_type": "code",
   "execution_count": 14,
   "id": "47b60e08-8e87-4e46-8e53-292b6d9a3991",
   "metadata": {},
   "outputs": [
    {
     "data": {
      "text/plain": [
       "True"
      ]
     },
     "execution_count": 14,
     "metadata": {},
     "output_type": "execute_result"
    }
   ],
   "source": [
    "a"
   ]
  },
  {
   "cell_type": "markdown",
   "id": "e0016b60-bc6e-4d0e-82f9-7a5fe8cfa108",
   "metadata": {
    "tags": []
   },
   "source": [
    "## Ветвление программ"
   ]
  },
  {
   "cell_type": "markdown",
   "id": "898ef735-1791-4070-9a74-52d362357093",
   "metadata": {},
   "source": [
    "### Условный оператор if"
   ]
  },
  {
   "cell_type": "raw",
   "id": "1917de8e-a6e1-4118-ad55-c780fe922c19",
   "metadata": {},
   "source": [
    "if условие:\n",
    "    действие\n",
    "elif условие:  #необязательный блок\n",
    "    действие\n",
    "else:          #необязательный блок\n",
    "    действие"
   ]
  },
  {
   "cell_type": "markdown",
   "id": "a77f2366-e905-4770-98fb-c3c286f63bc9",
   "metadata": {},
   "source": [
    "#### Пример №1"
   ]
  },
  {
   "cell_type": "markdown",
   "id": "7c364531-e62e-4a58-935c-392e2db8f5ee",
   "metadata": {},
   "source": [
    "Проверяем в каком диапозоне лежит число."
   ]
  },
  {
   "cell_type": "code",
   "execution_count": 15,
   "id": "677b63ec-7f09-4be3-99cc-160cc4c6db4e",
   "metadata": {
    "tags": []
   },
   "outputs": [
    {
     "name": "stdout",
     "output_type": "stream",
     "text": [
      "<5\n"
     ]
    }
   ],
   "source": [
    "a = 4\n",
    "if a == 5:\n",
    "    print(\"=5\")\n",
    "elif a > 5:\n",
    "    print(\">5\")\n",
    "else:\n",
    "    print(\"<5\")"
   ]
  },
  {
   "cell_type": "markdown",
   "id": "6e591fa1-91a0-4882-b35b-9f5eaccdbd2b",
   "metadata": {
    "tags": []
   },
   "source": [
    "#### Пример №2"
   ]
  },
  {
   "cell_type": "markdown",
   "id": "20484367-0ce1-4ce6-b88a-da9a231e2553",
   "metadata": {},
   "source": [
    "Программа \"Угадай число\". Пользователь вводит целое число, а программа выдает угадал/не угадал."
   ]
  },
  {
   "cell_type": "code",
   "execution_count": 16,
   "id": "4d483c6c-19a8-452f-9d13-82ff65b537b5",
   "metadata": {
    "tags": []
   },
   "outputs": [
    {
     "name": "stdin",
     "output_type": "stream",
     "text": [
      "Угадай число от 0 до 100:  5\n"
     ]
    },
    {
     "name": "stdout",
     "output_type": "stream",
     "text": [
      "Молодец!\n"
     ]
    }
   ],
   "source": [
    "a = int(input(\"Угадай число от 0 до 100: \"))\n",
    "if a == 5:\n",
    "    print(\"Молодец!\")\n",
    "else:\n",
    "    print(\"Попробуй еще!\")"
   ]
  },
  {
   "cell_type": "markdown",
   "id": "09f006b0-1e24-413b-957f-80c34e4cadf0",
   "metadata": {},
   "source": [
    "#### Пример №3"
   ]
  },
  {
   "cell_type": "markdown",
   "id": "4377ae30-c336-4b49-9144-6b7c7b7b96d7",
   "metadata": {
    "tags": []
   },
   "source": [
    "Программа проверки кратности числа \"a\" на число \"b\". Пользователь вводит целые числа \"a\" и \"b\", а программа выдает кратно/не кратно."
   ]
  },
  {
   "cell_type": "markdown",
   "id": "a054b188-94f7-4999-a31b-aa7296d8bcdb",
   "metadata": {
    "tags": []
   },
   "source": [
    "##### a = int(input(\"Введи число1: \"))\n",
    "b = int(input(\"Введи число2: \"))\n",
    "if (a%b) == 0:\n",
    "    print(\"Кратно\")\n",
    "else:\n",
    "    print(\"Не кратно\")"
   ]
  },
  {
   "cell_type": "markdown",
   "id": "ef46bdfa-7ed2-48cb-8ae4-6fa710357558",
   "metadata": {},
   "source": [
    "### Цикл while"
   ]
  },
  {
   "cell_type": "raw",
   "id": "b2751e93-ba51-4ce9-ba63-c7b0d5ea13f6",
   "metadata": {},
   "source": [
    "while условие:\n",
    "    действие\n",
    "else:         #необязательный блок кода\n",
    "    действие"
   ]
  },
  {
   "cell_type": "markdown",
   "id": "52ca39c2-2efa-46b9-8b78-0e9614814937",
   "metadata": {},
   "source": [
    "#### Пример №1"
   ]
  },
  {
   "cell_type": "markdown",
   "id": "4dea52bd-2878-4736-8caa-16f81259dffe",
   "metadata": {},
   "source": [
    "Считаем числа от 1 до 10."
   ]
  },
  {
   "cell_type": "code",
   "execution_count": 18,
   "id": "1f0f2141-7606-4e05-9af2-8543987f5fab",
   "metadata": {
    "tags": []
   },
   "outputs": [
    {
     "name": "stdout",
     "output_type": "stream",
     "text": [
      "1 2 3 4 5 6 7 8 9 10 "
     ]
    }
   ],
   "source": [
    "i = 0\n",
    "while i < 10:\n",
    "    i = i + 1\n",
    "    print(i, end=\" \")"
   ]
  },
  {
   "cell_type": "markdown",
   "id": "87e3c078-f176-4a73-b9d8-c7c1ff9f127c",
   "metadata": {},
   "source": [
    "#### Пример №2"
   ]
  },
  {
   "cell_type": "markdown",
   "id": "7fa04194-7d59-48b6-b020-142ebd3c177e",
   "metadata": {},
   "source": [
    "Возводим заданное число в заданную степень."
   ]
  },
  {
   "cell_type": "code",
   "execution_count": null,
   "id": "9fbad0d7-8a45-4b82-a83b-44b14b65dec3",
   "metadata": {},
   "outputs": [],
   "source": []
  },
  {
   "cell_type": "markdown",
   "id": "08ad6821-8539-49c9-9df3-767ae41f4526",
   "metadata": {},
   "source": [
    "### Цикл for (как цикл с счетчиком)"
   ]
  },
  {
   "cell_type": "raw",
   "id": "25bdb033-6b65-4b23-b6ab-b3cd47538153",
   "metadata": {},
   "source": [
    "for переменная in набор значений:\n",
    "    действие\n",
    "else:         #необязательный блок кода\n",
    "    действие "
   ]
  },
  {
   "cell_type": "raw",
   "id": "effed626-9482-4742-add2-ee63a122a426",
   "metadata": {},
   "source": [
    "range(количество) - генерирует числа в последовательности\n",
    "range(начало, конец)\n",
    "range(начало, конец, шаг)"
   ]
  },
  {
   "cell_type": "code",
   "execution_count": 19,
   "id": "c3e1d0c6-63af-4a14-829d-70f0a7be4a1f",
   "metadata": {
    "tags": []
   },
   "outputs": [
    {
     "name": "stdout",
     "output_type": "stream",
     "text": [
      "0 1 2 3 4 5 6 7 8 9 "
     ]
    }
   ],
   "source": [
    "for i in range(10):\n",
    "    print(i, end=\" \")"
   ]
  },
  {
   "cell_type": "markdown",
   "id": "fe5bd190-123f-4693-95b0-6863e8104acc",
   "metadata": {
    "tags": []
   },
   "source": [
    "## Структуры данных (списки [массив])"
   ]
  },
  {
   "cell_type": "markdown",
   "id": "93ec2e30-ace8-40a6-a2db-c31f9c4b73de",
   "metadata": {},
   "source": [
    "Списки - упорядоченные колекции данных (набор переменных)<br>\n",
    "название = []"
   ]
  },
  {
   "cell_type": "code",
   "execution_count": 20,
   "id": "138e49e0-0c26-46a0-b0f5-51b8f9db2837",
   "metadata": {
    "tags": []
   },
   "outputs": [
    {
     "name": "stdout",
     "output_type": "stream",
     "text": [
      "1 2 3 4 5 [1, 2, 3, 4, 5]\n"
     ]
    }
   ],
   "source": [
    "i = 0\n",
    "a = [1, 2, 3, 4, 5]\n",
    "while i < 5:\n",
    "    print(a[i], end=' ')\n",
    "    i += 1\n",
    "print(a)"
   ]
  },
  {
   "cell_type": "code",
   "execution_count": 27,
   "id": "d90310c0-f514-4aa8-a02c-10144d095c02",
   "metadata": {
    "tags": []
   },
   "outputs": [
    {
     "name": "stdin",
     "output_type": "stream",
     "text": [
      "Сколько введете данных? 8\n",
      "Введите 1 элемент:  1\n",
      "Введите 2 элемент:  2\n",
      "Введите 3 элемент:  3\n",
      "Введите 4 элемент:  4\n",
      "Введите 5 элемент:  56\n",
      "Введите 6 элемент:  6\n",
      "Введите 7 элемент:  7\n",
      "Введите 8 элемент:  8\n"
     ]
    },
    {
     "name": "stdout",
     "output_type": "stream",
     "text": [
      "[1, 2, 3, 4, 56, 6, 7, 8]\n",
      "56\n"
     ]
    }
   ],
   "source": [
    "n = int(input(\"Сколько введете данных?\"))\n",
    "a = [0]*n\n",
    "for i in range(n):\n",
    "    a[i] = int(input(\"Введите \" + str(i+1) + \" элемент: \"))\n",
    "max = a[0]\n",
    "i = 0\n",
    "while i < n:\n",
    "    if a[i] > max:\n",
    "        max = a[i]\n",
    "    i = i + 1\n",
    "print(a)\n",
    "print(max)"
   ]
  },
  {
   "cell_type": "markdown",
   "id": "866c5dc3-597e-41f5-b371-a20ee9563463",
   "metadata": {},
   "source": [
    "# Объектно-ориентированное программирование"
   ]
  },
  {
   "cell_type": "markdown",
   "id": "5d8bc389-11ee-4d7f-bafe-676474421741",
   "metadata": {},
   "source": [
    "class название:<br>\n",
    "    поле1<br>\n",
    "    поле2...<br>\n",
    "    метод1<br>\n",
    "    метод2...<br>\n",
    "\n",
    "self"
   ]
  },
  {
   "cell_type": "code",
   "execution_count": 27,
   "id": "c57cabe2-63ac-4542-a705-d3906bdd253e",
   "metadata": {
    "tags": []
   },
   "outputs": [],
   "source": [
    "class Ghost:\n",
    "    __health = 100\n",
    "    __damage = 10\n",
    "    __armor = 50\n",
    "    \n",
    "    def __init__(self, health, damage, armor):\n",
    "        self.__health = health\n",
    "        self.__damage = damage\n",
    "        self.__armor = armor\n",
    "    \n",
    "    def __setHealth(self, health):\n",
    "        self.__health = health\n",
    "    \n",
    "    def getHealth(self):\n",
    "        return self.__health\n",
    "    \n",
    "    def getDamage(self):\n",
    "        return self.__damage\n",
    "    \n",
    "    def getArmor(self):\n",
    "        return self.__armor"
   ]
  },
  {
   "cell_type": "code",
   "execution_count": 28,
   "id": "991a50f1-8338-4759-8e52-10c7e43f7bf0",
   "metadata": {
    "jupyter": {
     "source_hidden": true
    },
    "tags": []
   },
   "outputs": [],
   "source": [
    "class Wizard:\n",
    "    __health = 100\n",
    "    __damage = 20\n",
    "    __armor = 10\n",
    "    \n",
    "    def getHealth(self):\n",
    "        return self.__health\n",
    "    \n",
    "    def getDamage(self):\n",
    "        return self.__damage\n",
    "    \n",
    "    def getArmor(self):\n",
    "        return self.__armor"
   ]
  },
  {
   "cell_type": "code",
   "execution_count": 29,
   "id": "22c5a0c2-4f04-413c-b37c-9ab0dc7d141b",
   "metadata": {
    "tags": []
   },
   "outputs": [
    {
     "name": "stdout",
     "output_type": "stream",
     "text": [
      "100\n",
      "5\n"
     ]
    }
   ],
   "source": [
    "vasya = Wizard()\n",
    "petya = Ghost(100, 5, 10)\n",
    "#print(vasya.__health)\n",
    "print(petya.getHealth())\n",
    "print(petya.getDamage())"
   ]
  },
  {
   "cell_type": "code",
   "execution_count": null,
   "id": "de0eaed2-d0c6-4d2a-af6f-680458f967e3",
   "metadata": {},
   "outputs": [],
   "source": []
  }
 ],
 "metadata": {
  "kernelspec": {
   "display_name": "Python 3 (ipykernel)",
   "language": "python",
   "name": "python3"
  },
  "language_info": {
   "codemirror_mode": {
    "name": "ipython",
    "version": 3
   },
   "file_extension": ".py",
   "mimetype": "text/x-python",
   "name": "python",
   "nbconvert_exporter": "python",
   "pygments_lexer": "ipython3",
   "version": "3.11.4"
  },
  "toc-autonumbering": true,
  "toc-showmarkdowntxt": true
 },
 "nbformat": 4,
 "nbformat_minor": 5
}
