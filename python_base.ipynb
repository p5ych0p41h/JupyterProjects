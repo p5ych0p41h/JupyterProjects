{
 "cells": [
  {
   "cell_type": "markdown",
   "id": "14029e13-9535-4038-aed3-d68013eb2ec0",
   "metadata": {},
   "source": [
    "# Основы Python"
   ]
  },
  {
   "cell_type": "markdown",
   "id": "86d62668-0269-4be1-882e-899a23645d23",
   "metadata": {
    "tags": []
   },
   "source": [
    "## Комментарий"
   ]
  },
  {
   "cell_type": "markdown",
   "id": "6ce8a0c5-28ca-4570-a70a-4b6ec112244a",
   "metadata": {
    "tags": []
   },
   "source": [
    "#однострочный комментарий"
   ]
  },
  {
   "cell_type": "code",
   "execution_count": 1,
   "id": "d012edcb-1515-4376-8c02-6af4b6ce2404",
   "metadata": {
    "tags": []
   },
   "outputs": [],
   "source": [
    "#неинтерпретируемая строка"
   ]
  },
  {
   "cell_type": "markdown",
   "id": "69ad42a8-a631-4dc0-840d-6d931a03c7fa",
   "metadata": {
    "tags": []
   },
   "source": [
    "## Типы данных и переменные"
   ]
  },
  {
   "cell_type": "markdown",
   "id": "c4cb0d73-5d83-4b10-9431-fb6cba4bf732",
   "metadata": {
    "tags": []
   },
   "source": [
    "### Типы данных"
   ]
  },
  {
   "cell_type": "markdown",
   "id": "31afc483-0f24-4d70-b442-3b32ff2328e1",
   "metadata": {},
   "source": [
    "int - целые числа - 1 2 3 4</br>\n",
    "float - вещественные числа - 1.01 2.02 3.03</br>\n",
    "str - строки (набор символов) - \"слова\" 'предложения'</br>"
   ]
  },
  {
   "cell_type": "markdown",
   "id": "6940ec46-47b6-4954-8a9b-3ff760a8417b",
   "metadata": {
    "tags": []
   },
   "source": [
    "### Переменные"
   ]
  },
  {
   "cell_type": "markdown",
   "id": "f45c20ae-e8fa-4df0-95ba-33abe328de92",
   "metadata": {},
   "source": [
    "Создание и запись значения в переменную:</br>\n",
    "название = значение"
   ]
  },
  {
   "cell_type": "markdown",
   "id": "8a65479c-80d9-4125-baff-d990d78e2ad6",
   "metadata": {},
   "source": [
    "Ограничение названий:</br>\n",
    "1. В названиях используются латинские буквы и цифры.</br>\n",
    "2. Цифра не стоит на первом месте.</br>\n",
    "3. _ тоже буква.</br>\n",
    "4. Нельзя использовать зарезервированные языком слова.</br>\n",
    "5. Язык чувствителен к регистру (А != а).</br>"
   ]
  },
  {
   "cell_type": "code",
   "execution_count": 2,
   "id": "2ba1d1ca-d2b1-4c86-ab31-714e6691dbf0",
   "metadata": {
    "tags": []
   },
   "outputs": [],
   "source": [
    "a = 1\n",
    "b = 2.0\n",
    "c = \"Привет\""
   ]
  },
  {
   "cell_type": "markdown",
   "id": "4b59c88e-81be-4d52-8e87-3cbc15a29805",
   "metadata": {},
   "source": [
    "Посмотр содержимого переменной:</br>\n",
    "название"
   ]
  },
  {
   "cell_type": "code",
   "execution_count": 3,
   "id": "ee88b058-91df-4b09-88b6-3e979a36ba9c",
   "metadata": {
    "tags": []
   },
   "outputs": [
    {
     "data": {
      "text/plain": [
       "1"
      ]
     },
     "execution_count": 3,
     "metadata": {},
     "output_type": "execute_result"
    }
   ],
   "source": [
    "a"
   ]
  },
  {
   "cell_type": "code",
   "execution_count": 4,
   "id": "46d98c79-8f66-4aef-bb63-45aad1366b26",
   "metadata": {
    "tags": []
   },
   "outputs": [
    {
     "data": {
      "text/plain": [
       "2.0"
      ]
     },
     "execution_count": 4,
     "metadata": {},
     "output_type": "execute_result"
    }
   ],
   "source": [
    "b"
   ]
  },
  {
   "cell_type": "code",
   "execution_count": 5,
   "id": "038c640b-79f5-41df-88d1-de33dc9a3d55",
   "metadata": {
    "tags": []
   },
   "outputs": [
    {
     "data": {
      "text/plain": [
       "'Привет'"
      ]
     },
     "execution_count": 5,
     "metadata": {},
     "output_type": "execute_result"
    }
   ],
   "source": [
    "c"
   ]
  },
  {
   "cell_type": "markdown",
   "id": "5244f1a1-8b9e-4104-8960-79ec4111a711",
   "metadata": {
    "tags": []
   },
   "source": [
    "### Преобразование типов"
   ]
  },
  {
   "cell_type": "markdown",
   "id": "29b5c38b-a895-4302-9e9c-d1d2b1e8ea4a",
   "metadata": {},
   "source": [
    "тип(значение)</br>"
   ]
  },
  {
   "cell_type": "code",
   "execution_count": 6,
   "id": "5135064f-2057-4738-8ead-5eb72beb779c",
   "metadata": {
    "tags": []
   },
   "outputs": [],
   "source": [
    "a = 5\n",
    "b = str(a)"
   ]
  },
  {
   "cell_type": "code",
   "execution_count": 7,
   "id": "80871b7b-bfe0-44fd-bb9f-6e07d22cb37a",
   "metadata": {
    "tags": []
   },
   "outputs": [
    {
     "data": {
      "text/plain": [
       "'5'"
      ]
     },
     "execution_count": 7,
     "metadata": {},
     "output_type": "execute_result"
    }
   ],
   "source": [
    "b"
   ]
  },
  {
   "cell_type": "markdown",
   "id": "c60b451c-23e5-4391-bcc9-c5f766160f4f",
   "metadata": {
    "tags": []
   },
   "source": [
    "## Вывод на языке Python"
   ]
  },
  {
   "cell_type": "markdown",
   "id": "12d4f978-1901-484d-ab48-71321744a949",
   "metadata": {},
   "source": [
    "print(сообщение) - выводит сообщение в консоль и ставит перенос строки"
   ]
  },
  {
   "cell_type": "code",
   "execution_count": 8,
   "id": "a220d323-8c56-4645-bb6a-47cfd549e2de",
   "metadata": {
    "tags": []
   },
   "outputs": [
    {
     "name": "stdout",
     "output_type": "stream",
     "text": [
      "5\n"
     ]
    }
   ],
   "source": [
    "print(a)"
   ]
  },
  {
   "cell_type": "markdown",
   "id": "f7d092b1-d694-440b-8503-624c14d43e9c",
   "metadata": {},
   "source": [
    "print(сообщение, end=значение) - вывод с измененным параметром окончания строки"
   ]
  },
  {
   "cell_type": "code",
   "execution_count": 9,
   "id": "374278a8-3549-4832-98c6-4793a089895a",
   "metadata": {
    "tags": []
   },
   "outputs": [
    {
     "name": "stdout",
     "output_type": "stream",
     "text": [
      "5hehe"
     ]
    }
   ],
   "source": [
    "print(a, end=\"hehe\")"
   ]
  },
  {
   "cell_type": "markdown",
   "id": "681eca33-ce84-4bf7-ba11-cd1aa2d9deb2",
   "metadata": {},
   "source": [
    "print(\"сообщение {номер значения1}\".format(значение1))"
   ]
  },
  {
   "cell_type": "code",
   "execution_count": 10,
   "id": "3065ec97-ebfe-4e03-9dc9-3ef55a88ee8c",
   "metadata": {
    "tags": []
   },
   "outputs": [
    {
     "name": "stdout",
     "output_type": "stream",
     "text": [
      "В переменной а лежит значение 5, а в переменной b 5\n"
     ]
    }
   ],
   "source": [
    "print(\"В переменной а лежит значение {0}, а в переменной b {1}\".format(a, b))"
   ]
  },
  {
   "cell_type": "markdown",
   "id": "54700b43-bb9c-48a4-a71d-bcd007dacee1",
   "metadata": {
    "tags": []
   },
   "source": [
    "## Ввод на языке Python"
   ]
  },
  {
   "cell_type": "markdown",
   "id": "be47dc04-067c-4177-9696-1355711f70eb",
   "metadata": {},
   "source": [
    "input(сообщение) - считывает значение как строку с консоли"
   ]
  },
  {
   "cell_type": "code",
   "execution_count": 11,
   "id": "2440d321-39cb-4cf9-921b-f89c0536aa45",
   "metadata": {
    "tags": []
   },
   "outputs": [
    {
     "name": "stdin",
     "output_type": "stream",
     "text": [
      "Введите a: 5\n"
     ]
    }
   ],
   "source": [
    "a = input(\"Введите a:\")"
   ]
  },
  {
   "cell_type": "code",
   "execution_count": 12,
   "id": "f32b31e8-f6b2-415b-a935-2b121a434a05",
   "metadata": {
    "tags": []
   },
   "outputs": [
    {
     "data": {
      "text/plain": [
       "'5'"
      ]
     },
     "execution_count": 12,
     "metadata": {},
     "output_type": "execute_result"
    }
   ],
   "source": [
    "a"
   ]
  },
  {
   "cell_type": "markdown",
   "id": "87fb5119-647f-4953-9b02-fed42a85f247",
   "metadata": {},
   "source": [
    "## Истина и ложь на языке Python"
   ]
  },
  {
   "cell_type": "markdown",
   "id": "f5c454ca-cff7-4264-b498-5a43881753ae",
   "metadata": {},
   "source": [
    "Логические вырожения на языке Python построены на типе данных bool.</br>\n",
    "bool - True/False."
   ]
  },
  {
   "cell_type": "code",
   "execution_count": 13,
   "id": "d8269b84-c0fb-46a5-b7c7-c91fe77cd078",
   "metadata": {
    "tags": []
   },
   "outputs": [],
   "source": [
    "a = True"
   ]
  },
  {
   "cell_type": "code",
   "execution_count": 14,
   "id": "47b60e08-8e87-4e46-8e53-292b6d9a3991",
   "metadata": {
    "tags": []
   },
   "outputs": [
    {
     "data": {
      "text/plain": [
       "True"
      ]
     },
     "execution_count": 14,
     "metadata": {},
     "output_type": "execute_result"
    }
   ],
   "source": [
    "a"
   ]
  },
  {
   "cell_type": "markdown",
   "id": "e0016b60-bc6e-4d0e-82f9-7a5fe8cfa108",
   "metadata": {
    "tags": []
   },
   "source": [
    "## Ветвление программ"
   ]
  },
  {
   "cell_type": "markdown",
   "id": "898ef735-1791-4070-9a74-52d362357093",
   "metadata": {},
   "source": [
    "### Условный оператор if"
   ]
  },
  {
   "cell_type": "markdown",
   "id": "2736ffb4-9dc1-4327-99f9-eaf502e413d4",
   "metadata": {},
   "source": [
    "if условие:</br>\n",
    "&emsp;действие</br>\n",
    "elif условие:&emsp;#необязательный блок</br>\n",
    "&emsp;действие</br>\n",
    "else:&emsp;&emsp;&emsp;&emsp;#необязательный блок</br>\n",
    "&emsp;действие"
   ]
  },
  {
   "cell_type": "code",
   "execution_count": 15,
   "id": "677b63ec-7f09-4be3-99cc-160cc4c6db4e",
   "metadata": {
    "tags": []
   },
   "outputs": [
    {
     "name": "stdout",
     "output_type": "stream",
     "text": [
      "<5\n"
     ]
    }
   ],
   "source": [
    "a = 4\n",
    "if a == 5:\n",
    "    print(\"=5\")\n",
    "elif a > 5:\n",
    "    print(\">5\")\n",
    "else:\n",
    "    print(\"<5\")"
   ]
  },
  {
   "cell_type": "markdown",
   "id": "ef46bdfa-7ed2-48cb-8ae4-6fa710357558",
   "metadata": {},
   "source": [
    "### Цикл while"
   ]
  },
  {
   "cell_type": "markdown",
   "id": "34d20cc1-1692-40be-ac0c-a407ef8a532d",
   "metadata": {},
   "source": [
    "while условие:<br>\n",
    "&emsp;действие<br>\n",
    "else:&emsp;&emsp;&emsp;&emsp;#необязательный блок кода<br>\n",
    "&emsp;действие"
   ]
  },
  {
   "cell_type": "code",
   "execution_count": 16,
   "id": "1f0f2141-7606-4e05-9af2-8543987f5fab",
   "metadata": {
    "tags": []
   },
   "outputs": [
    {
     "name": "stdout",
     "output_type": "stream",
     "text": [
      "1 2 3 4 5 6 7 8 9 10 "
     ]
    }
   ],
   "source": [
    "i = 0\n",
    "while i < 10:\n",
    "    i = i + 1\n",
    "    print(i, end=\" \")"
   ]
  },
  {
   "cell_type": "markdown",
   "id": "5d7a7a21-33b4-4f9c-b041-5274b4020ad9",
   "metadata": {},
   "source": [
    "__Пример__. Сумма цифр числа."
   ]
  },
  {
   "cell_type": "code",
   "execution_count": 17,
   "id": "cd810500-cfd8-4803-b927-a5a9397af5c2",
   "metadata": {
    "tags": []
   },
   "outputs": [
    {
     "name": "stdin",
     "output_type": "stream",
     "text": [
      "Введите число:  5\n"
     ]
    },
    {
     "name": "stdout",
     "output_type": "stream",
     "text": [
      "5\n"
     ]
    }
   ],
   "source": [
    "a = int(input(\"Введите число: \"))\n",
    "sum = 0\n",
    "while a > 0:\n",
    "    sum = sum + a%10\n",
    "    a = a//10\n",
    "print(sum)"
   ]
  },
  {
   "cell_type": "markdown",
   "id": "32df6e4d-84a1-448f-acd7-b80e5a06f6b3",
   "metadata": {
    "tags": []
   },
   "source": [
    "__Пример__. Возведение в степень."
   ]
  },
  {
   "cell_type": "code",
   "execution_count": 27,
   "id": "d585131d-bff3-4ee8-8326-e5237e902c05",
   "metadata": {
    "tags": []
   },
   "outputs": [
    {
     "name": "stdin",
     "output_type": "stream",
     "text": [
      "Введите число:  5\n",
      "Введите степень:  3\n"
     ]
    },
    {
     "name": "stdout",
     "output_type": "stream",
     "text": [
      "5 в степени 3 будет 125\n"
     ]
    }
   ],
   "source": [
    "a = int(input(\"Введите число: \"))\n",
    "pow = int(input(\"Введите степень: \"))\n",
    "apow = a\n",
    "i = 0\n",
    "while i < pow-1:\n",
    "    apow = apow * a\n",
    "    i = i + 1\n",
    "print(\"{0} в степени {1} будет {2}\".format(a, pow, apow))"
   ]
  },
  {
   "cell_type": "markdown",
   "id": "08ad6821-8539-49c9-9df3-767ae41f4526",
   "metadata": {},
   "source": [
    "### Цикл for (как цикл с счетчиком)"
   ]
  },
  {
   "cell_type": "markdown",
   "id": "2a1d1b68-00f8-42bb-ac5a-ce40397c2227",
   "metadata": {},
   "source": [
    "for переменная in набор значений:</br>\n",
    "&emsp;действие</br>\n",
    "else:&emsp;&emsp;&emsp;&emsp;#необязательный блок кода</br>\n",
    "&emsp;действие"
   ]
  },
  {
   "cell_type": "raw",
   "id": "effed626-9482-4742-add2-ee63a122a426",
   "metadata": {},
   "source": [
    "range(количество) - генерирует числа в последовательности\n",
    "range(начало, конец)\n",
    "range(начало, конец, шаг)"
   ]
  },
  {
   "cell_type": "code",
   "execution_count": 19,
   "id": "c3e1d0c6-63af-4a14-829d-70f0a7be4a1f",
   "metadata": {
    "tags": []
   },
   "outputs": [
    {
     "name": "stdout",
     "output_type": "stream",
     "text": [
      "0 1 2 3 4 5 6 7 8 9 "
     ]
    }
   ],
   "source": [
    "for i in range(10):\n",
    "    print(i, end=\" \")"
   ]
  },
  {
   "cell_type": "markdown",
   "id": "037f0d58-2d94-4732-97e2-623ec3eac070",
   "metadata": {
    "tags": []
   },
   "source": [
    "__Пример__. Поиск максимального числа."
   ]
  },
  {
   "cell_type": "code",
   "execution_count": 32,
   "id": "68f0cfb5-2faf-4b17-9c37-57c865ba80b2",
   "metadata": {
    "tags": []
   },
   "outputs": [
    {
     "name": "stdin",
     "output_type": "stream",
     "text": [
      "Введите количество 3\n",
      "Введите число -9\n",
      "Введите число -1\n",
      "Введите число -15\n"
     ]
    },
    {
     "name": "stdout",
     "output_type": "stream",
     "text": [
      "-1\n"
     ]
    }
   ],
   "source": [
    "n = int(input(\"Введите количество\"))\n",
    "max = int(input(\"Введите число\"))\n",
    "i = 0\n",
    "while i < n-1:\n",
    "    v = int(input(\"Введите число\"))\n",
    "    if v > max:\n",
    "        max = v\n",
    "    i = i + 1\n",
    "print(max)"
   ]
  },
  {
   "cell_type": "markdown",
   "id": "4ef891f6-1a75-4e2f-9e37-497ee6246885",
   "metadata": {},
   "source": [
    "## Структуры данных"
   ]
  },
  {
   "cell_type": "markdown",
   "id": "95295e40-faf7-44a6-aa13-882c8a9fdf0f",
   "metadata": {},
   "source": [
    "### Списки"
   ]
  },
  {
   "cell_type": "markdown",
   "id": "25d416be-f04f-46b5-ab8a-4c5e74b8fa27",
   "metadata": {},
   "source": [
    "Списки - упорядоченные коллекции объектов (Массив - упорядоченный набор данных).<br>\n",
    "название = []<br>\n",
    "обращение к ячейке списка происходит по индексу:<br>\n",
    "название[индекс]"
   ]
  },
  {
   "cell_type": "code",
   "execution_count": 20,
   "id": "3c5ef949-4390-49bb-a87f-5cd4dbe5ff1b",
   "metadata": {
    "tags": []
   },
   "outputs": [
    {
     "name": "stdout",
     "output_type": "stream",
     "text": [
      "0 1 2 3 10 500 "
     ]
    }
   ],
   "source": [
    "a = [0]*10\n",
    "a = [0, 1, 2, 3, 10, 500]\n",
    "for i in range(6):\n",
    "    print(a[i], end=\" \")"
   ]
  },
  {
   "cell_type": "markdown",
   "id": "305af72e-059c-4b1d-9547-19947779a938",
   "metadata": {},
   "source": [
    "__Пример__. Поиск максимального числа."
   ]
  },
  {
   "cell_type": "code",
   "execution_count": 34,
   "id": "3a96bab5-8254-48fa-b686-cabe9ed18679",
   "metadata": {
    "tags": []
   },
   "outputs": [
    {
     "name": "stdin",
     "output_type": "stream",
     "text": [
      "Введите количество 5\n",
      "Введите число 1\n",
      "Введите число 2\n",
      "Введите число 3\n",
      "Введите число 4\n",
      "Введите число 5\n"
     ]
    },
    {
     "name": "stdout",
     "output_type": "stream",
     "text": [
      "5\n"
     ]
    }
   ],
   "source": [
    "n = int(input(\"Введите количество\"))\n",
    "a = [0]*n\n",
    "for i in range(n):\n",
    "    a[i] = int(input(\"Введите число\"))\n",
    "max = a[0]\n",
    "for i in range(n):\n",
    "    if a[i] > max:\n",
    "        max = a[i]\n",
    "print(max)"
   ]
  },
  {
   "cell_type": "markdown",
   "id": "a3d03030-53c7-4073-a38d-269db5d1bf32",
   "metadata": {
    "tags": []
   },
   "source": [
    "__Пример__. Сортировка списка."
   ]
  },
  {
   "cell_type": "code",
   "execution_count": 1,
   "id": "9a3ffe96-3dc8-4b4b-b626-8b2813f39331",
   "metadata": {},
   "outputs": [
    {
     "name": "stdin",
     "output_type": "stream",
     "text": [
      "Введите количество 5\n",
      "Введите число -3\n",
      "Введите число 2\n",
      "Введите число 0\n",
      "Введите число 1\n",
      "Введите число 4\n"
     ]
    },
    {
     "name": "stdout",
     "output_type": "stream",
     "text": [
      "[-3, 0, 1, 2, 4]\n"
     ]
    }
   ],
   "source": [
    "n = int(input(\"Введите количество\"))\n",
    "a = [0]*n\n",
    "for i in range(n):\n",
    "    a[i] = int(input(\"Введите число\"))\n",
    "for j in range(n):\n",
    "    i = 0\n",
    "    while i < n-1:\n",
    "        if a[i] > a[i+1]:\n",
    "            t = a[i+1]\n",
    "            a[i+1] = a[i]\n",
    "            a[i] = t\n",
    "        i = i + 1\n",
    "print(a)"
   ]
  },
  {
   "cell_type": "markdown",
   "id": "917cad01-6474-4f9e-bf49-623eb6f33b10",
   "metadata": {
    "tags": []
   },
   "source": [
    "__Пример__. Сортировка списка."
   ]
  },
  {
   "cell_type": "code",
   "execution_count": 13,
   "id": "08b79b8b-732a-4da8-bff0-47dc01b08607",
   "metadata": {},
   "outputs": [
    {
     "name": "stdin",
     "output_type": "stream",
     "text": [
      "Введите количество 5\n",
      "Введите число 1\n",
      "Введите число 2\n",
      "Введите число 5\n",
      "Введите число 4\n",
      "Введите число 3\n"
     ]
    },
    {
     "name": "stdout",
     "output_type": "stream",
     "text": [
      "[1, 2, 3, 4, 5]\n"
     ]
    }
   ],
   "source": [
    "n = int(input(\"Введите количество\"))\n",
    "a = [0]*n\n",
    "for i in range(n):\n",
    "    a[i] = int(input(\"Введите число\"))\n",
    "for j in range(n):\n",
    "    for i in range(n-1):\n",
    "        if a[i] > a[i+1]:\n",
    "            a[i],a[i+1] = a[i+1],a[i]\n",
    "print(a)"
   ]
  },
  {
   "cell_type": "code",
   "execution_count": 9,
   "id": "e42b0a9e-e81b-4f23-a8da-a14af5e76ac8",
   "metadata": {
    "tags": []
   },
   "outputs": [
    {
     "name": "stdin",
     "output_type": "stream",
     "text": [
      "Введите количество 5\n",
      "Введите число -9\n",
      "Введите число 9\n",
      "Введите число 0\n",
      "Введите число 10\n",
      "Введите число 3\n"
     ]
    },
    {
     "name": "stdout",
     "output_type": "stream",
     "text": [
      "[-9, 0, 3, 9, 10]\n"
     ]
    }
   ],
   "source": [
    "n = int(input(\"Введите количество\"))\n",
    "a = [int(input(\"Введите число\"))]\n",
    "for i in range(n-1):\n",
    "    a.append(int(input(\"Введите число\")))\n",
    "a.sort()\n",
    "print(a)"
   ]
  },
  {
   "cell_type": "code",
   "execution_count": 30,
   "id": "05019f44-7661-4d81-ba02-c5eb8155e28b",
   "metadata": {
    "tags": []
   },
   "outputs": [
    {
     "name": "stdout",
     "output_type": "stream",
     "text": [
      "0\t1\t2\t3\t4\t\n",
      "5\t6\t7\t8\t9\t\n",
      "10\t11\t12\t13\t14\t\n",
      "15\t16\t17\t18\t19\t\n"
     ]
    }
   ],
   "source": [
    "n = 4\n",
    "m = 5\n",
    "a = [0]*n\n",
    "for i in range(n):\n",
    "    a[i] = [0]*m\n",
    "sum = 0\n",
    "for i in range(n):\n",
    "    for j in range(m):\n",
    "        a[i][j] = sum\n",
    "        sum += 1\n",
    "for i in range(n):\n",
    "    for j in range(m):\n",
    "        print(a[i][j], end='\\t')\n",
    "    print()"
   ]
  },
  {
   "cell_type": "code",
   "execution_count": null,
   "id": "7d909939-0996-4809-9391-9ca11aa64812",
   "metadata": {},
   "outputs": [],
   "source": []
  }
 ],
 "metadata": {
  "kernelspec": {
   "display_name": "Python 3 (ipykernel)",
   "language": "python",
   "name": "python3"
  },
  "language_info": {
   "codemirror_mode": {
    "name": "ipython",
    "version": 3
   },
   "file_extension": ".py",
   "mimetype": "text/x-python",
   "name": "python",
   "nbconvert_exporter": "python",
   "pygments_lexer": "ipython3",
   "version": "3.10.13"
  },
  "toc-autonumbering": true,
  "toc-showmarkdowntxt": true
 },
 "nbformat": 4,
 "nbformat_minor": 5
}
